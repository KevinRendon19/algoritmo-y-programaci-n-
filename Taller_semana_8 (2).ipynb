{
  "cells": [
    {
      "cell_type": "markdown",
      "metadata": {
        "id": "QZ6XziVD76Jw"
      },
      "source": [
        "<h1 align=\"center\">Taller - Instrucciones repetitivas en Python</h1>\n",
        "\n",
        "Desarrolle la solucion a los siguientes problemas en Python, usando funciones y el programa correspondiente\n",
        "\n",
        "---"
      ]
    },
    {
      "cell_type": "markdown",
      "metadata": {
        "id": "uJJp2xk076J1"
      },
      "source": [
        "## Ejercicio 01\n",
        "\n",
        "Una librería ofrece dos tipos de descuentos ante la compra de un libro. Si el libro tiene un precio inferior a cien mil pesos, el descuento es del 12% del precio; pero en cualquier otro caso, el descuento asciende a un 18%.\n",
        "\n",
        "* Escriba una función que halle el precio neto de un libro (precio menos descuento) de un libro, dado el precio del libro.\n",
        "* Ahora, escriba un programa que permita leer el precio de varios libros (finalizar cuando el precio es cero o negativo) y mostrar para cada libro, el precio neto (usando la función desarrollada anteriormente)"
      ]
    },
    {
      "cell_type": "code",
      "execution_count": null,
      "metadata": {
        "id": "58mamZV176J2",
        "colab": {
          "base_uri": "https://localhost:8080/"
        },
        "outputId": "738552cc-b715-40c4-90af-32db7d122c45"
      },
      "outputs": [
        {
          "name": "stdout",
          "output_type": "stream",
          "text": [
            "Ingrese precio del libro: 0\n"
          ]
        }
      ],
      "source": [
        "# Definición de la función\n",
        "def hallar_precio_neto(precio_libro:float)->float:\n",
        " if(precio_libro<100_000):\n",
        "   precio_neto=precio_libro-(precio_libro*0.12)\n",
        " else:\n",
        "  precio_neto=precio_libro-(precio_libro*0.18)\n",
        " return precio_neto\n",
        "\n",
        "\n",
        "\n",
        "# Programa principal\n",
        "precio_libro = float(input(\"Ingrese precio del libro: \"))\n",
        "while precio_libro > 0:\n",
        "    precio_neto = hallar_precio_neto(precio_libro)\n",
        "    print(\"El precio neto es: \", precio_neto)\n",
        "    precio_libro = float(input(\"Ingrese precio del libro: \"))"
      ]
    },
    {
      "cell_type": "markdown",
      "metadata": {
        "id": "jF4Qm9FE76J3"
      },
      "source": [
        "---"
      ]
    },
    {
      "cell_type": "markdown",
      "metadata": {
        "id": "weyR_q0d76J4"
      },
      "source": [
        "## Ejercicio 02\n",
        "\n",
        "Un vendedor recibe una comisión por el volumen de ventas que realice. Las reglas para asignarle la comisión al vendedor son las siguientes:\n",
        "\n",
        "Ventas | Comisión\n",
        "---|---\n",
        "Inferior a 50 mil pesos | 7% de las ventas\n",
        "Entre 50 mil y 100 mil pesos | 9% de las ventas más 5 mil pesos\n",
        "Entre 100 mil y 200 mil pesos | 11% de las ventas más 10 mil pesos\n",
        "Entre 200 mil y 500 mil pesos | 13% de las ventas más 20 mil pesos\n",
        "Más de 500 mil pesos | 15% de las ventas más 40 mil pesos\n",
        "\n",
        "* Escriba una función que recibe el valor de las ventas de un vendedor y que retorne la comisión\n",
        "* Escriba un programa que lea el valor de ventas de varios vendedores de la empresa (finalizar cuando las ventas sean negativas), y usando la función anterior, calcule la comisión y la imprima por pantalla."
      ]
    },
    {
      "cell_type": "code",
      "execution_count": 4,
      "metadata": {
        "id": "kMitVJVW76J4",
        "colab": {
          "base_uri": "https://localhost:8080/"
        },
        "outputId": "1ee9d401-1efc-4e07-ff61-d44962d8a90a"
      },
      "outputs": [
        {
          "name": "stdout",
          "output_type": "stream",
          "text": [
            "Ingrese ventas realizadas: 0\n"
          ]
        }
      ],
      "source": [
        "# Definición de la función\n",
        "def comision_de_ventas_realizadas(ventas_realizadas: float) -> float:\n",
        "    if ventas_realizadas > 500_000:\n",
        "        precio_neto = ventas_realizadas - (ventas_realizadas * 0.015) + 40_000\n",
        "    elif ventas_realizadas > 200_000:\n",
        "        precio_neto = ventas_realizadas - (ventas_realizadas * 0.013) + 20_000\n",
        "    elif ventas_realizadas > 100_000:\n",
        "        precio_neto = ventas_realizadas - (ventas_realizadas * 0.011) + 10_000\n",
        "    elif ventas_realizadas > 50_000:\n",
        "        precio_neto = ventas_realizadas - (ventas_realizadas * 0.09) + 5_000\n",
        "    else:\n",
        "        precio_neto = ventas_realizadas - (ventas_realizadas * 0.07)\n",
        "\n",
        "    return precio_neto\n",
        "\n",
        "# Programa principal\n",
        "ventas_realizadas = float(input(\"Ingrese ventas realizadas: \"))\n",
        "while ventas_realizadas > 0:\n",
        "    precio_neto = comision_de_ventas_realizadas(ventas_realizadas)\n",
        "    print(\"El precio neto es:\", precio_neto)\n",
        "    ventas_realizadas = float(input(\"Ingrese el valor de las ventas (0 para terminar): \"))"
      ]
    },
    {
      "cell_type": "markdown",
      "metadata": {
        "id": "YWyFJrR876J4"
      },
      "source": [
        "---\n"
      ]
    },
    {
      "cell_type": "markdown",
      "metadata": {
        "id": "2IHUrLVh76J5"
      },
      "source": [
        "## Ejercicio 03\n",
        "\n",
        "Una empresa ofrece a sus empleados un salario mensual fijo, y un porcertaje de las ventas como una comisión adicional a ese salario mensual. Esta comisión se calcula de la siguiente manera: si las ventas de un empleado excede los 50 mil pesoso, la comisión será de un 12% de las ventas que están por encima de los 50 mil pesos, en otro caso no habrá comisión.\n",
        "\n",
        "* Primero, construya una función en la que dado las ventas que hizo el empleado, determine cuánto es la comisión\n",
        "* Ahora hay que hacer un programa que calcule y muestre los salarios y comisiones de todos los empleados de la empresa. Para cada empleado hay que preguntarle al usuario, el salario mensual y las ventas realizadas, y mostrar la comisión por las ventas (usando la función anterior) y el salario neto (salario más comisión). Como no sabemos cuántos empleados hay, después de mostrar esta información, debemos preguntarle al usuario si desea seguir o no."
      ]
    },
    {
      "cell_type": "code",
      "execution_count": 11,
      "metadata": {
        "id": "aTuMvKmw76J5",
        "colab": {
          "base_uri": "https://localhost:8080/"
        },
        "outputId": "680c1bb1-d650-441c-8fcc-a2aac84fcbd8"
      },
      "outputs": [
        {
          "name": "stdout",
          "output_type": "stream",
          "text": [
            "Ingrese salario fijo: 50000\n",
            "Ingrese ventas realizadas: 8\n",
            "Comisión: 0, Salario neto: 50000.0\n",
            "Ingrese ventas realizadas (0 para terminar): 0\n"
          ]
        }
      ],
      "source": [
        "from collections.abc import Hashable\n",
        "# Definición de la función\n",
        "def calcular_comision(salario_fijo: float, ventas: float) -> (float, float):\n",
        "    if ventas >= 50_000:\n",
        "        comision = ventas * 0.012\n",
        "        salario_neto = salario_fijo + comision\n",
        "    else:\n",
        "        comision = 0\n",
        "        salario_neto = salario_fijo + comision\n",
        "    return comision, salario_neto\n",
        "\n",
        "\n",
        "# Programa principal\n",
        "salario_fijo = float(input(\"Ingrese salario fijo: \"))\n",
        "ventas = float(input(\"Ingrese ventas realizadas: \"))\n",
        "\n",
        "while ventas > 0:\n",
        "    comision, salario_neto = calcular_comision(salario_fijo, ventas)\n",
        "    print(f\"Comisión: {comision}, Salario neto: {salario_neto}\")\n",
        "    ventas = float(input(\"Ingrese ventas realizadas (0 para terminar): \"))"
      ]
    },
    {
      "cell_type": "code",
      "source": [],
      "metadata": {
        "id": "AW0gdly3bj6o"
      },
      "execution_count": 9,
      "outputs": []
    },
    {
      "cell_type": "markdown",
      "metadata": {
        "id": "6M93ZEZh76J5"
      },
      "source": [
        "---"
      ]
    },
    {
      "cell_type": "markdown",
      "metadata": {
        "id": "ge6TBY0P76J6"
      },
      "source": [
        "## Ejercicio 04\n",
        "\n",
        "En una empresa se le paga a los trabajadores al final de cada semana de acuerdo a las reglas dadas a continuación:\n",
        "\n",
        "* Si trabajas 35 horas o menos, se le paga un valor de 15 mil pesos la hora;\n",
        "* Si trabaja más de 35 horas pero menos de 60, el valor de la hora es de 15 mil por las primeras 35 horas y de 18 mil por cada hora trabajada por encima de las 35\n",
        "* Si trabaja más de 60 horas, las primeras 35 se pagan a 15 mil, las siguiente 25 horas a 18 mil cada una y las horas horas trabajadas por encima de las 60 horas, se le paga a 25 mil pesos cada una.\n",
        "\n",
        "Vamos a buscar imprimir el salario semanal de cada uno de los empleados de la empresa. Para ello:\n",
        "\n",
        "* Escriba una función que reciba el número de horas trabajadas por un empleado y retorne el salario\n",
        "* Un programa que le pregunte al usuario el número de empleados que trabajan en la empresa, y para cada uno de esos, pregunte el número de horas trabajadas en la semana, y usando la función anterior, imprima el salario mensual de ese empleado."
      ]
    },
    {
      "cell_type": "code",
      "execution_count": 13,
      "metadata": {
        "id": "o8NultX076J6",
        "colab": {
          "base_uri": "https://localhost:8080/"
        },
        "outputId": "8cad5474-addc-4b17-e25a-213e304672ba"
      },
      "outputs": [
        {
          "output_type": "stream",
          "name": "stdout",
          "text": [
            "Ingrese el número de empleados en la empresa: 2\n",
            "Ingrese el número de horas trabajadas por el empleado 1: 20\n",
            "El salario semanal del empleado 1 es: 300000 pesos\n",
            "Ingrese el número de horas trabajadas por el empleado 2: 30\n",
            "El salario semanal del empleado 2 es: 450000 pesos\n"
          ]
        }
      ],
      "source": [
        "def calcular_salario(horas_trabajadas: int) -> float:\n",
        "    # Si trabaja 35 horas o menos\n",
        "    if horas_trabajadas <= 35:\n",
        "        salario = horas_trabajadas * 15_000\n",
        "    # Si trabaja más de 35 horas pero menos de 60\n",
        "    elif horas_trabajadas <= 60:\n",
        "        salario = (35 * 15_000) + ((horas_trabajadas - 35) * 18_000)\n",
        "    else:\n",
        "        salario = (35 * 15_000) + (25 * 18_000) + ((horas_trabajadas - 60) * 25_000)\n",
        "    return salario\n",
        "\n",
        "\n",
        "# Programa principal\n",
        "num_empleados = int(input(\"Ingrese el número de empleados en la empresa: \"))\n",
        "\n",
        "for i in range(num_empleados):\n",
        "    horas = int(input(f\"Ingrese el número de horas trabajadas por el empleado {i+1}: \"))\n",
        "    salario = calcular_salario(horas)\n",
        "    print(f\"El salario semanal del empleado {i+1} es: {salario} pesos\")"
      ]
    }
  ],
  "metadata": {
    "colab": {
      "provenance": []
    },
    "kernelspec": {
      "display_name": "Python 3",
      "language": "python",
      "name": "python3"
    },
    "language_info": {
      "codemirror_mode": {
        "name": "ipython",
        "version": 3
      },
      "file_extension": ".py",
      "mimetype": "text/x-python",
      "name": "python",
      "nbconvert_exporter": "python",
      "pygments_lexer": "ipython3",
      "version": "3.7.7"
    }
  },
  "nbformat": 4,
  "nbformat_minor": 0
}